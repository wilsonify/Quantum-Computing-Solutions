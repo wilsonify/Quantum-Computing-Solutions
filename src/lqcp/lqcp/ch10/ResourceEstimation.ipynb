{
 "cells": [
  {
   "cell_type": "markdown",
   "metadata": {},
   "source": [
    "# Resource Estimation Example"
   ]
  },
  {
   "cell_type": "markdown",
   "metadata": {},
   "source": [
    "## Deutsch–Jozsa"
   ]
  },
  {
   "cell_type": "code",
   "execution_count": 1,
   "metadata": {},
   "outputs": [
    {
     "data": {
      "application/json": "[\"ApplyNotOracle\"]",
      "text/html": [
       "<ul><li>ApplyNotOracle</li></ul>"
      ],
      "text/plain": [
       "ApplyNotOracle"
      ]
     },
     "execution_count": 1,
     "metadata": {},
     "output_type": "execute_result"
    }
   ],
   "source": [
    "operation ApplyNotOracle(control : Qubit, target : Qubit) : Unit {\n",
    "    within {\n",
    "        X(control);\n",
    "    } apply {\n",
    "        CNOT(control, target);\n",
    "    }\n",
    "}"
   ]
  },
  {
   "cell_type": "code",
   "execution_count": 2,
   "metadata": {},
   "outputs": [
    {
     "data": {
      "application/json": "[\"CheckIfOracleIsBalanced\"]",
      "text/html": [
       "<ul><li>CheckIfOracleIsBalanced</li></ul>"
      ],
      "text/plain": [
       "CheckIfOracleIsBalanced"
      ]
     },
     "execution_count": 2,
     "metadata": {},
     "output_type": "execute_result"
    }
   ],
   "source": [
    "open Microsoft.Quantum.Measurement;\n",
    "\n",
    "operation CheckIfOracleIsBalanced(\n",
    "        oracle : ((Qubit, Qubit) => Unit)              \n",
    ") : Bool {\n",
    "    using ((control, target) = (Qubit(), Qubit())) {\n",
    "        H(control);\n",
    "        \n",
    "        within {\n",
    "            X(target);\n",
    "            H(target);\n",
    "        } apply {\n",
    "            oracle(control, target);\n",
    "        }\n",
    "        \n",
    "        return MResetX(control) == One;\n",
    "    }\n",
    "}"
   ]
  },
  {
   "cell_type": "code",
   "execution_count": 3,
   "metadata": {},
   "outputs": [
    {
     "data": {
      "application/json": "[\"RunDeutschJozsaAlgorithm\"]",
      "text/html": [
       "<ul><li>RunDeutschJozsaAlgorithm</li></ul>"
      ],
      "text/plain": [
       "RunDeutschJozsaAlgorithm"
      ]
     },
     "execution_count": 3,
     "metadata": {},
     "output_type": "execute_result"
    }
   ],
   "source": [
    "operation RunDeutschJozsaAlgorithm() : Bool {\n",
    "    return CheckIfOracleIsBalanced(ApplyNotOracle);\n",
    "}"
   ]
  },
  {
   "cell_type": "code",
   "execution_count": 4,
   "metadata": {},
   "outputs": [
    {
     "data": {
      "application/json": "{\"CNOT\":1.0,\"QubitClifford\":8.0,\"R\":0.0,\"Measure\":1.0,\"T\":0.0,\"Depth\":0.0,\"Width\":2.0,\"BorrowedWidth\":0.0}",
      "text/html": [
       "<ul><li>[CNOT, 1]</li><li>[QubitClifford, 8]</li><li>[R, 0]</li><li>[Measure, 1]</li><li>[T, 0]</li><li>[Depth, 0]</li><li>[Width, 2]</li><li>[BorrowedWidth, 0]</li></ul>"
      ],
      "text/plain": [
       "[CNOT, 1], [QubitClifford, 8], [R, 0], [Measure, 1], [T, 0], [Depth, 0], [Width, 2], [BorrowedWidth, 0]"
      ]
     },
     "execution_count": 4,
     "metadata": {},
     "output_type": "execute_result"
    }
   ],
   "source": [
    "%estimate RunDeutschJozsaAlgorithm"
   ]
  },
  {
   "cell_type": "markdown",
   "metadata": {},
   "source": [
    "## CCNOT"
   ]
  },
  {
   "cell_type": "code",
   "execution_count": 5,
   "metadata": {},
   "outputs": [
    {
     "data": {
      "application/json": "[\"EstimateCcnotResources\"]",
      "text/html": [
       "<ul><li>EstimateCcnotResources</li></ul>"
      ],
      "text/plain": [
       "EstimateCcnotResources"
      ]
     },
     "execution_count": 5,
     "metadata": {},
     "output_type": "execute_result"
    }
   ],
   "source": [
    "operation EstimateCcnotResources() : Unit {\n",
    "    using (register = Qubit[3]) {\n",
    "        CCNOT(register[0], register[1], register[2]);\n",
    "    }\n",
    "}"
   ]
  },
  {
   "cell_type": "code",
   "execution_count": 6,
   "metadata": {},
   "outputs": [
    {
     "data": {
      "application/json": "{\"CNOT\":10.0,\"QubitClifford\":2.0,\"R\":0.0,\"Measure\":0.0,\"T\":7.0,\"Depth\":5.0,\"Width\":3.0,\"BorrowedWidth\":0.0}",
      "text/html": [
       "<ul><li>[CNOT, 10]</li><li>[QubitClifford, 2]</li><li>[R, 0]</li><li>[Measure, 0]</li><li>[T, 7]</li><li>[Depth, 5]</li><li>[Width, 3]</li><li>[BorrowedWidth, 0]</li></ul>"
      ],
      "text/plain": [
       "[CNOT, 10], [QubitClifford, 2], [R, 0], [Measure, 0], [T, 7], [Depth, 5], [Width, 3], [BorrowedWidth, 0]"
      ]
     },
     "execution_count": 6,
     "metadata": {},
     "output_type": "execute_result"
    }
   ],
   "source": [
    "%estimate EstimateCcnotResources"
   ]
  },
  {
   "cell_type": "code",
   "execution_count": null,
   "metadata": {},
   "outputs": [],
   "source": []
  }
 ],
 "metadata": {
  "kernelspec": {
   "display_name": "Q#",
   "language": "qsharp",
   "name": "iqsharp"
  },
  "language_info": {
   "file_extension": ".qs",
   "mimetype": "text/x-qsharp",
   "name": "qsharp",
   "version": "0.4"
  }
 },
 "nbformat": 4,
 "nbformat_minor": 2
}
